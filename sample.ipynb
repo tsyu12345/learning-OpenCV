{
 "cells": [
  {
   "cell_type": "code",
   "execution_count": 1,
   "metadata": {},
   "outputs": [],
   "source": [
    "import cv2\n",
    "import numpy as np\n",
    "import matplotlib.pyplot as plt"
   ]
  },
  {
   "cell_type": "code",
   "execution_count": 2,
   "metadata": {},
   "outputs": [],
   "source": [
    "def plot_circles(image: np.ndarray) -> None:\n",
    "    # Convert the image from BGR to RGB\n",
    "    image_rgb = cv2.cvtColor(image, cv2.COLOR_BGR2RGB)\n",
    "    \n",
    "    # Plot the image\n",
    "    plt.imshow(image_rgb)\n",
    "    plt.show()"
   ]
  },
  {
   "cell_type": "code",
   "execution_count": 5,
   "metadata": {},
   "outputs": [
    {
     "name": "stdout",
     "output_type": "stream",
     "text": [
      "load image\n",
      "detecting circles\n"
     ]
    },
    {
     "ename": "TypeError",
     "evalue": "loop of ufunc does not support argument 0 of type NoneType which has no callable rint method",
     "output_type": "error",
     "traceback": [
      "\u001b[0;31m---------------------------------------------------------------------------\u001b[0m",
      "\u001b[0;31mAttributeError\u001b[0m                            Traceback (most recent call last)",
      "\u001b[0;31mAttributeError\u001b[0m: 'NoneType' object has no attribute 'rint'",
      "\nThe above exception was the direct cause of the following exception:\n",
      "\u001b[0;31mTypeError\u001b[0m                                 Traceback (most recent call last)",
      "Cell \u001b[0;32mIn[5], line 26\u001b[0m\n\u001b[1;32m     22\u001b[0m \u001b[39mprint\u001b[39m(\u001b[39m\"\u001b[39m\u001b[39mdetecting circles\u001b[39m\u001b[39m\"\u001b[39m)\n\u001b[1;32m     24\u001b[0m \u001b[39m#cv2.circle関数のいくつかの引数は Int型である必要があるので、\u001b[39;00m\n\u001b[1;32m     25\u001b[0m \u001b[39m#このタイミングで np.float型から整数値に丸め、さらに16ビット情報にキャストします\u001b[39;00m\n\u001b[0;32m---> 26\u001b[0m circles \u001b[39m=\u001b[39m np\u001b[39m.\u001b[39muint16(np\u001b[39m.\u001b[39;49maround(circles))\n\u001b[1;32m     28\u001b[0m \u001b[39m#検出した円を描画する:\u001b[39;00m\n\u001b[1;32m     29\u001b[0m \u001b[39m# circlesには、検出した円の数だけの座標配列が格納されているので、これをfor文で回して描画する\u001b[39;00m\n\u001b[1;32m     30\u001b[0m \u001b[39mfor\u001b[39;00m i \u001b[39min\u001b[39;00m circles[\u001b[39m0\u001b[39m, :]:\n\u001b[1;32m     31\u001b[0m     \u001b[39m# 円を描画する\u001b[39;00m\n\u001b[1;32m     32\u001b[0m     \u001b[39m# cv2.circle(画像, 円の中心座標, 円の半径, 色, 線の太さ)\u001b[39;00m\n",
      "File \u001b[0;32m~/learning-OpenCV/.venv/lib/python3.10/site-packages/numpy/core/fromnumeric.py:3377\u001b[0m, in \u001b[0;36maround\u001b[0;34m(a, decimals, out)\u001b[0m\n\u001b[1;32m   3363\u001b[0m \u001b[39m@array_function_dispatch\u001b[39m(_round_dispatcher)\n\u001b[1;32m   3364\u001b[0m \u001b[39mdef\u001b[39;00m \u001b[39maround\u001b[39m(a, decimals\u001b[39m=\u001b[39m\u001b[39m0\u001b[39m, out\u001b[39m=\u001b[39m\u001b[39mNone\u001b[39;00m):\n\u001b[1;32m   3365\u001b[0m \u001b[39m    \u001b[39m\u001b[39m\"\"\"\u001b[39;00m\n\u001b[1;32m   3366\u001b[0m \u001b[39m    Round an array to the given number of decimals.\u001b[39;00m\n\u001b[1;32m   3367\u001b[0m \n\u001b[0;32m   (...)\u001b[0m\n\u001b[1;32m   3375\u001b[0m \n\u001b[1;32m   3376\u001b[0m \u001b[39m    \"\"\"\u001b[39;00m\n\u001b[0;32m-> 3377\u001b[0m     \u001b[39mreturn\u001b[39;00m _wrapfunc(a, \u001b[39m'\u001b[39;49m\u001b[39mround\u001b[39;49m\u001b[39m'\u001b[39;49m, decimals\u001b[39m=\u001b[39;49mdecimals, out\u001b[39m=\u001b[39;49mout)\n",
      "File \u001b[0;32m~/learning-OpenCV/.venv/lib/python3.10/site-packages/numpy/core/fromnumeric.py:56\u001b[0m, in \u001b[0;36m_wrapfunc\u001b[0;34m(obj, method, *args, **kwds)\u001b[0m\n\u001b[1;32m     54\u001b[0m bound \u001b[39m=\u001b[39m \u001b[39mgetattr\u001b[39m(obj, method, \u001b[39mNone\u001b[39;00m)\n\u001b[1;32m     55\u001b[0m \u001b[39mif\u001b[39;00m bound \u001b[39mis\u001b[39;00m \u001b[39mNone\u001b[39;00m:\n\u001b[0;32m---> 56\u001b[0m     \u001b[39mreturn\u001b[39;00m _wrapit(obj, method, \u001b[39m*\u001b[39;49margs, \u001b[39m*\u001b[39;49m\u001b[39m*\u001b[39;49mkwds)\n\u001b[1;32m     58\u001b[0m \u001b[39mtry\u001b[39;00m:\n\u001b[1;32m     59\u001b[0m     \u001b[39mreturn\u001b[39;00m bound(\u001b[39m*\u001b[39margs, \u001b[39m*\u001b[39m\u001b[39m*\u001b[39mkwds)\n",
      "File \u001b[0;32m~/learning-OpenCV/.venv/lib/python3.10/site-packages/numpy/core/fromnumeric.py:45\u001b[0m, in \u001b[0;36m_wrapit\u001b[0;34m(obj, method, *args, **kwds)\u001b[0m\n\u001b[1;32m     43\u001b[0m \u001b[39mexcept\u001b[39;00m \u001b[39mAttributeError\u001b[39;00m:\n\u001b[1;32m     44\u001b[0m     wrap \u001b[39m=\u001b[39m \u001b[39mNone\u001b[39;00m\n\u001b[0;32m---> 45\u001b[0m result \u001b[39m=\u001b[39m \u001b[39mgetattr\u001b[39;49m(asarray(obj), method)(\u001b[39m*\u001b[39;49margs, \u001b[39m*\u001b[39;49m\u001b[39m*\u001b[39;49mkwds)\n\u001b[1;32m     46\u001b[0m \u001b[39mif\u001b[39;00m wrap:\n\u001b[1;32m     47\u001b[0m     \u001b[39mif\u001b[39;00m \u001b[39mnot\u001b[39;00m \u001b[39misinstance\u001b[39m(result, mu\u001b[39m.\u001b[39mndarray):\n",
      "\u001b[0;31mTypeError\u001b[0m: loop of ufunc does not support argument 0 of type NoneType which has no callable rint method"
     ]
    }
   ],
   "source": [
    "\"\"\"cv2.HoughCircles()パラメーターの説明\n",
    "        img: 入力画像\n",
    "        method: 検出手法\n",
    "        dp: 検出精度 値が大きいほど検出基準が緩くなり、値が小さいほど検出基準が厳しく\n",
    "        minDist:検出される円同士が最低限離れていなければならない距離\n",
    "        param1: 円検出におけるCannyエッジ検出の閾値(上限値)の設定、上限値以下, 下限値(paramの1/2)以上のものを正しいエッジとして判断.\n",
    "        param2: 円の中心を検出する際の閾値、低い値にすると円の誤検出が多くなり、高い値にすると未検出が多くなる。\n",
    "        minRadius: 検出する円の最小半径\n",
    "        maxRadius: 検出する円の最大半径\n",
    "\"\"\"\n",
    "image = cv2.imread(\"./sheet1.jpg\")\n",
    "print('load image')\n",
    "gray_scale = cv2.cvtColor(image, cv2.COLOR_BGR2GRAY)\n",
    "\n",
    "circles = cv2.HoughCircles(\n",
    "    gray_scale,\n",
    "    cv2.HOUGH_GRADIENT,\n",
    "    dp=0.2,\n",
    "    minDist=5,\n",
    "    maxRadius=2\n",
    ")\n",
    "print(\"detecting circles\")\n",
    "\n",
    "#cv2.circle関数のいくつかの引数は Int型である必要があるので、\n",
    "#このタイミングで np.float型から整数値に丸め、さらに16ビット情報にキャストします\n",
    "circles = np.uint16(np.around(circles))\n",
    "\n",
    "if(circles is None):\n",
    "    print(\"no circles\")\n",
    "    exit()\n",
    "\n",
    "#検出した円を描画する:\n",
    "# circlesには、検出した円の数だけの座標配列が格納されているので、これをfor文で回して描画する\n",
    "for i in circles[0, :]:\n",
    "    # 円を描画する\n",
    "    # cv2.circle(画像, 円の中心座標, 円の半径, 色, 線の太さ)\n",
    "    cv2.circle(image, (i[0], i[1]), i[2], (0, 255, 0), 2)\n",
    "\n",
    "    # 円の中心を描画する\n",
    "    cv2.circle(image, (i[0], i[1]), 2, (0, 0, 255), 3)\n",
    "plot_circles(image)"
   ]
  }
 ],
 "metadata": {
  "kernelspec": {
   "display_name": ".venv",
   "language": "python",
   "name": "python3"
  },
  "language_info": {
   "codemirror_mode": {
    "name": "ipython",
    "version": 3
   },
   "file_extension": ".py",
   "mimetype": "text/x-python",
   "name": "python",
   "nbconvert_exporter": "python",
   "pygments_lexer": "ipython3",
   "version": "3.10.4"
  },
  "orig_nbformat": 4
 },
 "nbformat": 4,
 "nbformat_minor": 2
}
